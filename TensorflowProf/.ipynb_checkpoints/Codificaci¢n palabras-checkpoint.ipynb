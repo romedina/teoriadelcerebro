{
 "cells": [
  {
   "cell_type": "code",
   "execution_count": 1,
   "metadata": {
    "collapsed": true
   },
   "outputs": [],
   "source": [
    "import numpy as np\n",
    "import itertools"
   ]
  },
  {
   "cell_type": "code",
   "execution_count": 2,
   "metadata": {},
   "outputs": [
    {
     "name": "stdout",
     "output_type": "stream",
     "text": [
      "['sam is red', 'hannah not red', 'hannah is green', 'bob is green', 'bob not red', 'sam not green', 'sarah is red', 'sarah not green']\n",
      "[[0]\n",
      " [1]\n",
      " [1]\n",
      " [1]\n",
      " [1]\n",
      " [0]\n",
      " [0]\n",
      " [0]]\n"
     ]
    }
   ],
   "source": [
    "sentences = '''\n",
    "sam is red\n",
    "hannah not red\n",
    "hannah is green\n",
    "bob is green\n",
    "bob not red\n",
    "sam not green\n",
    "sarah is red\n",
    "sarah not green'''.strip().split('\\n')\n",
    "\n",
    "is_green = np.asarray([[0, 1, 1, 1, 1, 0, 0, 0]], dtype='int32').T\n",
    "\n",
    "print(sentences)\n",
    "print(is_green)"
   ]
  },
  {
   "cell_type": "code",
   "execution_count": 4,
   "metadata": {},
   "outputs": [
    {
     "name": "stdout",
     "output_type": "stream",
     "text": [
      "[['sam', 'is', 'red'], ['hannah', 'not', 'red'], ['hannah', 'is', 'green'], ['bob', 'is', 'green'], ['bob', 'not', 'red'], ['sam', 'not', 'green'], ['sarah', 'is', 'red'], ['sarah', 'not', 'green']]\n"
     ]
    }
   ],
   "source": [
    "lemma = lambda x: x.strip().lower().split(' ')\n",
    "sentences_lemmatized = [lemma(sentence) for sentence in sentences]\n",
    "\n",
    "print(sentences_lemmatized)"
   ]
  },
  {
   "cell_type": "code",
   "execution_count": 13,
   "metadata": {},
   "outputs": [
    {
     "name": "stdout",
     "output_type": "stream",
     "text": [
      "{'sam', 'is', 'bob', 'sarah', 'not', 'green', 'hannah', 'red'}\n"
     ]
    }
   ],
   "source": [
    "words = set(itertools.chain(*sentences_lemmatized))\n",
    "\n",
    "print(words)"
   ]
  },
  {
   "cell_type": "code",
   "execution_count": 14,
   "metadata": {},
   "outputs": [
    {
     "name": "stdout",
     "output_type": "stream",
     "text": [
      "{'green': 5, 'hannah': 6, 'not': 4, 'bob': 2, 'red': 7, 'sam': 0, 'is': 1, 'sarah': 3}\n",
      "['sam', 'is', 'bob', 'sarah', 'not', 'green', 'hannah', 'red']\n"
     ]
    }
   ],
   "source": [
    "# diccionarios para convertir palabras a enteros y vice versa\n",
    "word2idx = dict((v, i) for i, v in enumerate(words))\n",
    "print(word2idx)\n",
    "\n",
    "idx2word = list(words)\n",
    "print(idx2word)"
   ]
  },
  {
   "cell_type": "code",
   "execution_count": 16,
   "metadata": {},
   "outputs": [
    {
     "name": "stdout",
     "output_type": "stream",
     "text": [
      "[[0, 1, 7], [6, 4, 7], [6, 1, 5], [2, 1, 5], [2, 4, 7], [0, 4, 5], [3, 1, 7], [3, 4, 5]]\n",
      "[[0 1 7]\n",
      " [6 4 7]\n",
      " [6 1 5]\n",
      " [2 1 5]\n",
      " [2 4 7]\n",
      " [0 4 5]\n",
      " [3 1 7]\n",
      " [3 4 5]]\n"
     ]
    }
   ],
   "source": [
    "# Convierte el enunciado en un arreglo numpy\n",
    "to_idx = lambda x: [word2idx[word] for word in x]\n",
    "sentences_idx = [to_idx(sentence) for sentence in sentences_lemmatized]\n",
    "\n",
    "print(sentences_idx)\n",
    "\n",
    "sentences_array = np.asarray(sentences_idx, dtype='int32')\n",
    "\n",
    "print(sentences_array)"
   ]
  },
  {
   "cell_type": "code",
   "execution_count": null,
   "metadata": {
    "collapsed": true
   },
   "outputs": [],
   "source": []
  }
 ],
 "metadata": {
  "kernelspec": {
   "display_name": "Python 3",
   "language": "python",
   "name": "python3"
  },
  "language_info": {
   "codemirror_mode": {
    "name": "ipython",
    "version": 3
   },
   "file_extension": ".py",
   "mimetype": "text/x-python",
   "name": "python",
   "nbconvert_exporter": "python",
   "pygments_lexer": "ipython3",
   "version": "3.5.4"
  }
 },
 "nbformat": 4,
 "nbformat_minor": 2
}
